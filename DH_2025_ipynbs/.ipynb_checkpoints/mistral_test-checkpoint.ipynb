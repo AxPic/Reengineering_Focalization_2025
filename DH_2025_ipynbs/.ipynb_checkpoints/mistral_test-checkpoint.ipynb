{
 "cells": [
  {
   "cell_type": "code",
   "execution_count": 1,
   "id": "57f9a92a-95d2-43cf-b593-c5e33acbecd1",
   "metadata": {},
   "outputs": [
    {
     "name": "stdout",
     "output_type": "stream",
     "text": [
      "Requirement already satisfied: mistralai in /Library/Frameworks/Python.framework/Versions/3.12/lib/python3.12/site-packages (1.0.3)\n",
      "Requirement already satisfied: httpx<0.28.0,>=0.27.0 in /Library/Frameworks/Python.framework/Versions/3.12/lib/python3.12/site-packages (from mistralai) (0.27.2)\n",
      "Requirement already satisfied: jsonpath-python<2.0.0,>=1.0.6 in /Library/Frameworks/Python.framework/Versions/3.12/lib/python3.12/site-packages (from mistralai) (1.0.6)\n",
      "Requirement already satisfied: pydantic<2.9.0,>=2.8.2 in /Library/Frameworks/Python.framework/Versions/3.12/lib/python3.12/site-packages (from mistralai) (2.8.2)\n",
      "Requirement already satisfied: python-dateutil<3.0.0,>=2.9.0.post0 in /Library/Frameworks/Python.framework/Versions/3.12/lib/python3.12/site-packages (from mistralai) (2.9.0.post0)\n",
      "Requirement already satisfied: typing-inspect<0.10.0,>=0.9.0 in /Library/Frameworks/Python.framework/Versions/3.12/lib/python3.12/site-packages (from mistralai) (0.9.0)\n",
      "Requirement already satisfied: anyio in /Library/Frameworks/Python.framework/Versions/3.12/lib/python3.12/site-packages (from httpx<0.28.0,>=0.27.0->mistralai) (4.4.0)\n",
      "Requirement already satisfied: certifi in /Library/Frameworks/Python.framework/Versions/3.12/lib/python3.12/site-packages (from httpx<0.28.0,>=0.27.0->mistralai) (2024.8.30)\n",
      "Requirement already satisfied: httpcore==1.* in /Library/Frameworks/Python.framework/Versions/3.12/lib/python3.12/site-packages (from httpx<0.28.0,>=0.27.0->mistralai) (1.0.5)\n",
      "Requirement already satisfied: idna in /Library/Frameworks/Python.framework/Versions/3.12/lib/python3.12/site-packages (from httpx<0.28.0,>=0.27.0->mistralai) (3.8)\n",
      "Requirement already satisfied: sniffio in /Library/Frameworks/Python.framework/Versions/3.12/lib/python3.12/site-packages (from httpx<0.28.0,>=0.27.0->mistralai) (1.3.1)\n",
      "Requirement already satisfied: h11<0.15,>=0.13 in /Library/Frameworks/Python.framework/Versions/3.12/lib/python3.12/site-packages (from httpcore==1.*->httpx<0.28.0,>=0.27.0->mistralai) (0.14.0)\n",
      "Requirement already satisfied: annotated-types>=0.4.0 in /Library/Frameworks/Python.framework/Versions/3.12/lib/python3.12/site-packages (from pydantic<2.9.0,>=2.8.2->mistralai) (0.7.0)\n",
      "Requirement already satisfied: pydantic-core==2.20.1 in /Library/Frameworks/Python.framework/Versions/3.12/lib/python3.12/site-packages (from pydantic<2.9.0,>=2.8.2->mistralai) (2.20.1)\n",
      "Requirement already satisfied: typing-extensions>=4.6.1 in /Library/Frameworks/Python.framework/Versions/3.12/lib/python3.12/site-packages (from pydantic<2.9.0,>=2.8.2->mistralai) (4.12.2)\n",
      "Requirement already satisfied: six>=1.5 in /Library/Frameworks/Python.framework/Versions/3.12/lib/python3.12/site-packages (from python-dateutil<3.0.0,>=2.9.0.post0->mistralai) (1.16.0)\n",
      "Requirement already satisfied: mypy-extensions>=0.3.0 in /Library/Frameworks/Python.framework/Versions/3.12/lib/python3.12/site-packages (from typing-inspect<0.10.0,>=0.9.0->mistralai) (1.0.0)\n",
      "\n",
      "\u001b[1m[\u001b[0m\u001b[34;49mnotice\u001b[0m\u001b[1;39;49m]\u001b[0m\u001b[39;49m A new release of pip is available: \u001b[0m\u001b[31;49m24.2\u001b[0m\u001b[39;49m -> \u001b[0m\u001b[32;49m24.3.1\u001b[0m\n",
      "\u001b[1m[\u001b[0m\u001b[34;49mnotice\u001b[0m\u001b[1;39;49m]\u001b[0m\u001b[39;49m To update, run: \u001b[0m\u001b[32;49mpip3 install --upgrade pip\u001b[0m\n",
      "Note: you may need to restart the kernel to use updated packages.\n"
     ]
    }
   ],
   "source": [
    "pip install mistralai"
   ]
  },
  {
   "cell_type": "code",
   "execution_count": 2,
   "id": "b7141783-7817-4e7c-ad1e-50fe75cf6dc8",
   "metadata": {},
   "outputs": [],
   "source": [
    "import pandas as pd\n",
    "import numpy as np\n",
    "from sklearn.metrics import f1_score, recall_score, precision_score, accuracy_score"
   ]
  },
  {
   "cell_type": "code",
   "execution_count": 3,
   "id": "89314e97-8eaf-49cc-9246-c86e4f09d2e6",
   "metadata": {},
   "outputs": [],
   "source": [
    "from mistralai import Mistral\n",
    "from mistralai import client"
   ]
  },
  {
   "cell_type": "code",
   "execution_count": 4,
   "id": "df995423-2177-4863-91db-5c5b4b74964c",
   "metadata": {},
   "outputs": [],
   "source": [
    "import os"
   ]
  },
  {
   "cell_type": "code",
   "execution_count": 5,
   "id": "5b6241cc-b81a-4cec-b339-ae9d01d486ff",
   "metadata": {},
   "outputs": [],
   "source": [
    "api_key = os.getenv('MY_MISTRAL')"
   ]
  },
  {
   "cell_type": "code",
   "execution_count": 6,
   "id": "3a628383-5a13-4bfc-9df4-b067b6ec4dea",
   "metadata": {},
   "outputs": [],
   "source": [
    "df_anno = pd.read_csv('DH_2025_Anno_DEU_agreed.csv')"
   ]
  },
  {
   "cell_type": "code",
   "execution_count": 7,
   "id": "6737de2e-32ee-4d9e-9949-60b9675dd1ff",
   "metadata": {},
   "outputs": [],
   "source": [
    "df_anno['Fokalisierung'] = df_anno['Fokalisierung'].replace({\n",
    "    'intern': 'internal',\n",
    "    'extern': 'external',\n",
    "    'null': 'zero'\n",
    "})"
   ]
  },
  {
   "cell_type": "code",
   "execution_count": 8,
   "id": "82bccc58-19d7-4456-8178-09093d414624",
   "metadata": {},
   "outputs": [],
   "source": [
    "df_anno['Fokalisierung'] = df_anno['Fokalisierung'].replace({\n",
    "    'intern': 'internal',\n",
    "    'extern': 'external',\n",
    "    'null': 'zero',\n",
    "    None: 'zero',\n",
    "    np.nan: 'zero'\n",
    "})"
   ]
  },
  {
   "cell_type": "code",
   "execution_count": 9,
   "id": "2a872635-ea48-4780-9256-9e983ea3a99b",
   "metadata": {},
   "outputs": [
    {
     "data": {
      "text/html": [
       "<div>\n",
       "<style scoped>\n",
       "    .dataframe tbody tr th:only-of-type {\n",
       "        vertical-align: middle;\n",
       "    }\n",
       "\n",
       "    .dataframe tbody tr th {\n",
       "        vertical-align: top;\n",
       "    }\n",
       "\n",
       "    .dataframe thead th {\n",
       "        text-align: right;\n",
       "    }\n",
       "</style>\n",
       "<table border=\"1\" class=\"dataframe\">\n",
       "  <thead>\n",
       "    <tr style=\"text-align: right;\">\n",
       "      <th></th>\n",
       "      <th>Autor</th>\n",
       "      <th>Titel</th>\n",
       "      <th>Absatz</th>\n",
       "      <th>Fokalisierung</th>\n",
       "      <th>Kommentar</th>\n",
       "    </tr>\n",
       "  </thead>\n",
       "  <tbody>\n",
       "    <tr>\n",
       "      <th>0</th>\n",
       "      <td>Schiller</td>\n",
       "      <td>Der Vebrecher aus verlorener Ehre</td>\n",
       "      <td>In der ganzen Geschichte des Menschen ist kein...</td>\n",
       "      <td>zero</td>\n",
       "      <td>NaN</td>\n",
       "    </tr>\n",
       "    <tr>\n",
       "      <th>1</th>\n",
       "      <td>Schiller</td>\n",
       "      <td>Der Vebrecher aus verlorener Ehre</td>\n",
       "      <td>Es ist etwas so Einförmiges und doch wieder so...</td>\n",
       "      <td>zero</td>\n",
       "      <td>NaN</td>\n",
       "    </tr>\n",
       "    <tr>\n",
       "      <th>2</th>\n",
       "      <td>Tieck</td>\n",
       "      <td>Die beiden merkwürdigsten Tage aus Siegmunds L...</td>\n",
       "      <td>Es war schon gegen Abend, als ein Wagen vor de...</td>\n",
       "      <td>internal</td>\n",
       "      <td>NaN</td>\n",
       "    </tr>\n",
       "    <tr>\n",
       "      <th>3</th>\n",
       "      <td>Tieck</td>\n",
       "      <td>Die beiden merkwürdigsten Tage aus Siegmunds L...</td>\n",
       "      <td>»Mag’s doch!« sagte er ganz laut, indem er mit...</td>\n",
       "      <td>external</td>\n",
       "      <td>NaN</td>\n",
       "    </tr>\n",
       "    <tr>\n",
       "      <th>4</th>\n",
       "      <td>Karoline von Günderrode</td>\n",
       "      <td>Geschichte eines Braminen</td>\n",
       "      <td>Ich bin, sagte Almor, in Smirna geboren. Mein ...</td>\n",
       "      <td>external</td>\n",
       "      <td>NaN</td>\n",
       "    </tr>\n",
       "  </tbody>\n",
       "</table>\n",
       "</div>"
      ],
      "text/plain": [
       "                      Autor  \\\n",
       "0                  Schiller   \n",
       "1                  Schiller   \n",
       "2                     Tieck   \n",
       "3                     Tieck   \n",
       "4  Karoline von Günderrode    \n",
       "\n",
       "                                               Titel  \\\n",
       "0                  Der Vebrecher aus verlorener Ehre   \n",
       "1                  Der Vebrecher aus verlorener Ehre   \n",
       "2  Die beiden merkwürdigsten Tage aus Siegmunds L...   \n",
       "3  Die beiden merkwürdigsten Tage aus Siegmunds L...   \n",
       "4                          Geschichte eines Braminen   \n",
       "\n",
       "                                              Absatz Fokalisierung Kommentar  \n",
       "0  In der ganzen Geschichte des Menschen ist kein...          zero       NaN  \n",
       "1  Es ist etwas so Einförmiges und doch wieder so...          zero       NaN  \n",
       "2  Es war schon gegen Abend, als ein Wagen vor de...      internal       NaN  \n",
       "3  »Mag’s doch!« sagte er ganz laut, indem er mit...      external       NaN  \n",
       "4  Ich bin, sagte Almor, in Smirna geboren. Mein ...      external       NaN  "
      ]
     },
     "execution_count": 9,
     "metadata": {},
     "output_type": "execute_result"
    }
   ],
   "source": [
    "df_anno.head()"
   ]
  },
  {
   "cell_type": "code",
   "execution_count": 10,
   "id": "d3fbefde-5a2a-4237-a347-9eea73e9befb",
   "metadata": {},
   "outputs": [],
   "source": [
    "def get_completion_mixtral(prompt, model=\"ministral-8b-latest\", temperature=0.1):\n",
    "    client = Mistral(api_key=api_key)\n",
    "    chat_response = client.chat.complete(\n",
    "        model = model,\n",
    "        temperature=temperature, # this is the degree of randomness of the model's output\n",
    "        messages = [\n",
    "            {\n",
    "                \"role\": \"user\",\n",
    "                \"content\": prompt,\n",
    "            },\n",
    "        ])\n",
    "    return chat_response.choices[0].message.content"
   ]
  },
  {
   "cell_type": "code",
   "execution_count": 11,
   "id": "e4801e14-5434-4239-b884-5392bd6bf1a7",
   "metadata": {},
   "outputs": [],
   "source": [
    "prompt_basic = \"\"\"\n",
    "### Instruction\n",
    "Your task is to classify the focalization of the following sentence\n",
    "\n",
    "###\n",
    "Only respond with one word representing the mode of focalization, do NOT give explenations or generate more text \n",
    "Sentence: '''{text}''''\n",
    "Label:\n",
    "\"\"\""
   ]
  },
  {
   "cell_type": "code",
   "execution_count": 12,
   "id": "f88bc732-1ab7-4c8e-9ca2-d6659a271388",
   "metadata": {},
   "outputs": [],
   "source": [
    "prompt_labels = \"\"\"\n",
    "### Instruction\n",
    "Your task is to classify the focalization of the following sentence\n",
    "\n",
    "### Labels\n",
    "There are three modes of focalization:\n",
    "- internal\n",
    "- external\n",
    "- zero\n",
    "\n",
    "####\n",
    "Only respond with one word representing the mode of focalization, do NOT give explenations or generate more text \n",
    "Sentence: '''{text}''' \n",
    "Label: \n",
    "\"\"\""
   ]
  },
  {
   "cell_type": "code",
   "execution_count": 13,
   "id": "9a28efea-cd61-4b50-8e9b-8cf27d39daf1",
   "metadata": {},
   "outputs": [],
   "source": [
    "prompt_redefin = \"\"\"\n",
    "### Instruction\n",
    "Your task is to classify the focalization of the following sentence\n",
    "\n",
    "### Labels\n",
    "There are three modes of focalization:\n",
    "- internal: A text passage is internally focalized precisely when a perceptual process is part of the depicted event and is presented from the perspective of a character.\n",
    "- external: A text passage is externally focalized precisely when a perceptual process is part of the depicted event and could be presented from the perspective of a character.\n",
    "- zero: A text passage is zero focalized precisely when circumstances of the narrated world are described as if they were independent of a particular perceptual process of a person or are not possible for a person to perceive synchronously.\n",
    "\n",
    "####\n",
    "Only respond with one word representing the mode of focalization, do NOT give explenations or generate more text  \n",
    "Sentence: '''{text}''' \n",
    "Label: \n",
    "\"\"\""
   ]
  },
  {
   "cell_type": "code",
   "execution_count": 14,
   "id": "73534894-2a90-40b2-acc4-d81a9abab0cb",
   "metadata": {},
   "outputs": [],
   "source": [
    "prompt_meta = \"\"\"\n",
    "### Instruction\n",
    "Your task is to classify the focalization of the following sentence\n",
    "\n",
    "### Labels\n",
    "There are three modes of focalization:\n",
    "- internal: A text passage is internally focalized precisely when a perceptual process is part of the depicted event and is presented from the perspective of a character.\n",
    "- external: A text passage is externally focalized precisely when a perceptual process is part of the depicted event and could be presented from the perspective of a character.\n",
    "- zero: A text passage is zero focalized precisely when circumstances of the narrated world are described as if they were independent of a particular perceptual process of a person or are not possible for a person to perceive synchronously. \n",
    "These definitions are redefinitions of the standard understanding of focalization.\n",
    "\n",
    "####\n",
    "Only respond with one word representing the mode of focalization, do NOT give explenations or generate more text \n",
    "Sentence: '''{text}''' \n",
    "Label: \n",
    "\"\"\""
   ]
  },
  {
   "cell_type": "code",
   "execution_count": 15,
   "id": "7aedc23c-95fb-41e6-8f42-4bc779f5c3ed",
   "metadata": {},
   "outputs": [],
   "source": [
    "prompt_templates = [prompt_labels, prompt_redefin, prompt_meta]"
   ]
  },
  {
   "cell_type": "code",
   "execution_count": 16,
   "id": "dbc03d8f-dc77-4569-bb48-b131a98d65d0",
   "metadata": {},
   "outputs": [],
   "source": [
    "def evaluate_prompts_and_predictions(df, prompt_templates):\n",
    "    \"\"\"\n",
    "    Evaluiert verschiedene Prompt-Templates und berechnet Metriken für die Vorhersagen.\n",
    "    \n",
    "    Args:\n",
    "        df: Pandas DataFrame mit den Spalten 'Absatz' und 'Fokalisierung'\n",
    "        prompt_templates: Liste der Prompt-Templates\n",
    "    \n",
    "    Returns:\n",
    "        DataFrame mit den Evaluierungsmetriken für jeden Prompt\n",
    "    \"\"\"\n",
    "    \n",
    "    results = []\n",
    "    \n",
    "    # Iteration über die Prompt-Templates\n",
    "    for prompt_idx, template in enumerate(prompt_templates):\n",
    "        print(f\"Verarbeite Prompt-Template {prompt_idx + 1}/{len(prompt_templates)}\")\n",
    "        \n",
    "        # Neue Spalte für Vorhersagen erstellen\n",
    "        df[f'Prediction_{prompt_idx}'] = None\n",
    "        \n",
    "        # Iteration über die Zeilen des DataFrames\n",
    "        for idx, row in df.iterrows():\n",
    "            # Prompt erstellen durch Einsetzen des Absatzes in das Template\n",
    "            prompt = template.format(text=row['Absatz'])\n",
    "            \n",
    "            # Vorhersage mit Mixtral-Modell\n",
    "            prediction = get_completion_mixtral(prompt)\n",
    "            first_word = prediction.split()[0]\n",
    "            first_word = first_word.lower()\n",
    "            print(first_word)\n",
    "            \n",
    "            # Vorhersage speichern\n",
    "            df.at[idx, f'Prediction_{prompt_idx}'] = first_word\n",
    "        \n",
    "        #print(df)\n",
    "        \n",
    "        # Metriken berechnen\n",
    "        metrics = {\n",
    "            'Prompt': f'Template_{prompt_idx}',\n",
    "            'F1-Score': f1_score(df['Fokalisierung'], df[f'Prediction_{prompt_idx}'], average='weighted'),\n",
    "            'Recall': recall_score(df['Fokalisierung'], df[f'Prediction_{prompt_idx}'], average='weighted'),\n",
    "            'Precision': precision_score(df['Fokalisierung'], df[f'Prediction_{prompt_idx}'], average='weighted'),\n",
    "            'Accuracy': accuracy_score(df['Fokalisierung'], df[f'Prediction_{prompt_idx}'])\n",
    "        }\n",
    "        \n",
    "        results.append(metrics)\n",
    "    \n",
    "    # Ergebnisse in DataFrame umwandeln\n",
    "    results_df = pd.DataFrame(results)\n",
    "    \n",
    "    return results_df"
   ]
  },
  {
   "cell_type": "code",
   "execution_count": 17,
   "id": "35569bc4-db87-4563-99b3-3c0b21a5cdae",
   "metadata": {},
   "outputs": [
    {
     "name": "stdout",
     "output_type": "stream",
     "text": [
      "Verarbeite Prompt-Template 1/3\n",
      "internal\n",
      "internal\n",
      "external\n",
      "external\n",
      "internal\n",
      "internal\n",
      "internal\n",
      "external\n",
      "internal\n",
      "external\n",
      "internal\n",
      "internal\n",
      "internal\n",
      "internal\n",
      "external\n",
      "internal\n",
      "internal\n",
      "external\n",
      "external\n",
      "external\n",
      "internal\n",
      "external\n",
      "internal\n",
      "internal\n",
      "external\n",
      "external\n",
      "internal\n",
      "internal\n",
      "external\n",
      "internal\n",
      "external\n",
      "internal\n",
      "external\n",
      "internal\n",
      "external\n",
      "internal\n",
      "internal\n",
      "internal\n",
      "internal\n",
      "internal\n",
      "internal\n",
      "internal\n",
      "external\n",
      "external\n",
      "internal\n",
      "internal\n",
      "internal\n",
      "external\n",
      "internal\n",
      "internal\n",
      "internal\n",
      "internal\n",
      "internal\n",
      "external\n",
      "Verarbeite Prompt-Template 2/3\n"
     ]
    },
    {
     "name": "stderr",
     "output_type": "stream",
     "text": [
      "/Library/Frameworks/Python.framework/Versions/3.12/lib/python3.12/site-packages/sklearn/metrics/_classification.py:1531: UndefinedMetricWarning: Precision is ill-defined and being set to 0.0 in labels with no predicted samples. Use `zero_division` parameter to control this behavior.\n",
      "  _warn_prf(average, modifier, f\"{metric.capitalize()} is\", len(result))\n"
     ]
    },
    {
     "name": "stdout",
     "output_type": "stream",
     "text": [
      "external\n",
      "internal\n",
      "internal\n",
      "internal\n",
      "internal\n",
      "internal\n",
      "internal\n",
      "internal\n",
      "internal\n",
      "internal\n",
      "internal\n",
      "internal\n",
      "internal\n",
      "internal\n",
      "internal\n",
      "internal\n",
      "internal\n",
      "internal\n",
      "internal\n",
      "external\n"
     ]
    },
    {
     "ename": "SDKError",
     "evalue": "API error occurred: Status 429\n{\"message\":\"Requests rate limit exceeded\"}",
     "output_type": "error",
     "traceback": [
      "\u001b[0;31m---------------------------------------------------------------------------\u001b[0m",
      "\u001b[0;31mSDKError\u001b[0m                                  Traceback (most recent call last)",
      "Cell \u001b[0;32mIn[17], line 1\u001b[0m\n\u001b[0;32m----> 1\u001b[0m test \u001b[38;5;241m=\u001b[39m \u001b[43mevaluate_prompts_and_predictions\u001b[49m\u001b[43m(\u001b[49m\u001b[43mdf_anno\u001b[49m\u001b[43m,\u001b[49m\u001b[43m \u001b[49m\u001b[43mprompt_templates\u001b[49m\u001b[43m)\u001b[49m\n",
      "Cell \u001b[0;32mIn[16], line 28\u001b[0m, in \u001b[0;36mevaluate_prompts_and_predictions\u001b[0;34m(df, prompt_templates)\u001b[0m\n\u001b[1;32m     25\u001b[0m prompt \u001b[38;5;241m=\u001b[39m template\u001b[38;5;241m.\u001b[39mformat(text\u001b[38;5;241m=\u001b[39mrow[\u001b[38;5;124m'\u001b[39m\u001b[38;5;124mAbsatz\u001b[39m\u001b[38;5;124m'\u001b[39m])\n\u001b[1;32m     27\u001b[0m \u001b[38;5;66;03m# Vorhersage mit Mixtral-Modell\u001b[39;00m\n\u001b[0;32m---> 28\u001b[0m prediction \u001b[38;5;241m=\u001b[39m \u001b[43mget_completion_mixtral\u001b[49m\u001b[43m(\u001b[49m\u001b[43mprompt\u001b[49m\u001b[43m)\u001b[49m\n\u001b[1;32m     29\u001b[0m first_word \u001b[38;5;241m=\u001b[39m prediction\u001b[38;5;241m.\u001b[39msplit()[\u001b[38;5;241m0\u001b[39m]\n\u001b[1;32m     30\u001b[0m first_word \u001b[38;5;241m=\u001b[39m first_word\u001b[38;5;241m.\u001b[39mlower()\n",
      "Cell \u001b[0;32mIn[10], line 3\u001b[0m, in \u001b[0;36mget_completion_mixtral\u001b[0;34m(prompt, model, temperature)\u001b[0m\n\u001b[1;32m      1\u001b[0m \u001b[38;5;28;01mdef\u001b[39;00m \u001b[38;5;21mget_completion_mixtral\u001b[39m(prompt, model\u001b[38;5;241m=\u001b[39m\u001b[38;5;124m\"\u001b[39m\u001b[38;5;124mministral-8b-latest\u001b[39m\u001b[38;5;124m\"\u001b[39m, temperature\u001b[38;5;241m=\u001b[39m\u001b[38;5;241m0.1\u001b[39m):\n\u001b[1;32m      2\u001b[0m     client \u001b[38;5;241m=\u001b[39m Mistral(api_key\u001b[38;5;241m=\u001b[39mapi_key)\n\u001b[0;32m----> 3\u001b[0m     chat_response \u001b[38;5;241m=\u001b[39m \u001b[43mclient\u001b[49m\u001b[38;5;241;43m.\u001b[39;49m\u001b[43mchat\u001b[49m\u001b[38;5;241;43m.\u001b[39;49m\u001b[43mcomplete\u001b[49m\u001b[43m(\u001b[49m\n\u001b[1;32m      4\u001b[0m \u001b[43m        \u001b[49m\u001b[43mmodel\u001b[49m\u001b[43m \u001b[49m\u001b[38;5;241;43m=\u001b[39;49m\u001b[43m \u001b[49m\u001b[43mmodel\u001b[49m\u001b[43m,\u001b[49m\n\u001b[1;32m      5\u001b[0m \u001b[43m        \u001b[49m\u001b[43mtemperature\u001b[49m\u001b[38;5;241;43m=\u001b[39;49m\u001b[43mtemperature\u001b[49m\u001b[43m,\u001b[49m\u001b[43m \u001b[49m\u001b[38;5;66;43;03m# this is the degree of randomness of the model's output\u001b[39;49;00m\n\u001b[1;32m      6\u001b[0m \u001b[43m        \u001b[49m\u001b[43mmessages\u001b[49m\u001b[43m \u001b[49m\u001b[38;5;241;43m=\u001b[39;49m\u001b[43m \u001b[49m\u001b[43m[\u001b[49m\n\u001b[1;32m      7\u001b[0m \u001b[43m            \u001b[49m\u001b[43m{\u001b[49m\n\u001b[1;32m      8\u001b[0m \u001b[43m                \u001b[49m\u001b[38;5;124;43m\"\u001b[39;49m\u001b[38;5;124;43mrole\u001b[39;49m\u001b[38;5;124;43m\"\u001b[39;49m\u001b[43m:\u001b[49m\u001b[43m \u001b[49m\u001b[38;5;124;43m\"\u001b[39;49m\u001b[38;5;124;43muser\u001b[39;49m\u001b[38;5;124;43m\"\u001b[39;49m\u001b[43m,\u001b[49m\n\u001b[1;32m      9\u001b[0m \u001b[43m                \u001b[49m\u001b[38;5;124;43m\"\u001b[39;49m\u001b[38;5;124;43mcontent\u001b[39;49m\u001b[38;5;124;43m\"\u001b[39;49m\u001b[43m:\u001b[49m\u001b[43m \u001b[49m\u001b[43mprompt\u001b[49m\u001b[43m,\u001b[49m\n\u001b[1;32m     10\u001b[0m \u001b[43m            \u001b[49m\u001b[43m}\u001b[49m\u001b[43m,\u001b[49m\n\u001b[1;32m     11\u001b[0m \u001b[43m        \u001b[49m\u001b[43m]\u001b[49m\u001b[43m)\u001b[49m\n\u001b[1;32m     12\u001b[0m     \u001b[38;5;28;01mreturn\u001b[39;00m chat_response\u001b[38;5;241m.\u001b[39mchoices[\u001b[38;5;241m0\u001b[39m]\u001b[38;5;241m.\u001b[39mmessage\u001b[38;5;241m.\u001b[39mcontent\n",
      "File \u001b[0;32m/Library/Frameworks/Python.framework/Versions/3.12/lib/python3.12/site-packages/mistralai/chat.py:120\u001b[0m, in \u001b[0;36mChat.complete\u001b[0;34m(self, model, messages, temperature, top_p, max_tokens, min_tokens, stream, stop, random_seed, response_format, tools, tool_choice, safe_prompt, retries, server_url, timeout_ms)\u001b[0m\n\u001b[1;32m    118\u001b[0m     \u001b[38;5;28;01mraise\u001b[39;00m models\u001b[38;5;241m.\u001b[39mHTTPValidationError(data\u001b[38;5;241m=\u001b[39mdata)\n\u001b[1;32m    119\u001b[0m \u001b[38;5;28;01mif\u001b[39;00m utils\u001b[38;5;241m.\u001b[39mmatch_response(http_res, [\u001b[38;5;124m\"\u001b[39m\u001b[38;5;124m4XX\u001b[39m\u001b[38;5;124m\"\u001b[39m,\u001b[38;5;124m\"\u001b[39m\u001b[38;5;124m5XX\u001b[39m\u001b[38;5;124m\"\u001b[39m], \u001b[38;5;124m\"\u001b[39m\u001b[38;5;124m*\u001b[39m\u001b[38;5;124m\"\u001b[39m):\n\u001b[0;32m--> 120\u001b[0m     \u001b[38;5;28;01mraise\u001b[39;00m models\u001b[38;5;241m.\u001b[39mSDKError(\u001b[38;5;124m\"\u001b[39m\u001b[38;5;124mAPI error occurred\u001b[39m\u001b[38;5;124m\"\u001b[39m, http_res\u001b[38;5;241m.\u001b[39mstatus_code, http_res\u001b[38;5;241m.\u001b[39mtext, http_res)\n\u001b[1;32m    122\u001b[0m content_type \u001b[38;5;241m=\u001b[39m http_res\u001b[38;5;241m.\u001b[39mheaders\u001b[38;5;241m.\u001b[39mget(\u001b[38;5;124m\"\u001b[39m\u001b[38;5;124mContent-Type\u001b[39m\u001b[38;5;124m\"\u001b[39m)\n\u001b[1;32m    123\u001b[0m \u001b[38;5;28;01mraise\u001b[39;00m models\u001b[38;5;241m.\u001b[39mSDKError(\u001b[38;5;124mf\u001b[39m\u001b[38;5;124m\"\u001b[39m\u001b[38;5;124mUnexpected response received (code: \u001b[39m\u001b[38;5;132;01m{\u001b[39;00mhttp_res\u001b[38;5;241m.\u001b[39mstatus_code\u001b[38;5;132;01m}\u001b[39;00m\u001b[38;5;124m, type: \u001b[39m\u001b[38;5;132;01m{\u001b[39;00mcontent_type\u001b[38;5;132;01m}\u001b[39;00m\u001b[38;5;124m)\u001b[39m\u001b[38;5;124m\"\u001b[39m, http_res\u001b[38;5;241m.\u001b[39mstatus_code, http_res\u001b[38;5;241m.\u001b[39mtext, http_res)\n",
      "\u001b[0;31mSDKError\u001b[0m: API error occurred: Status 429\n{\"message\":\"Requests rate limit exceeded\"}"
     ]
    }
   ],
   "source": [
    "test = evaluate_prompts_and_predictions(df_anno, prompt_templates)"
   ]
  },
  {
   "cell_type": "code",
   "execution_count": null,
   "id": "bfce498a-b205-4602-af89-f8debe982b77",
   "metadata": {},
   "outputs": [],
   "source": []
  }
 ],
 "metadata": {
  "kernelspec": {
   "display_name": "Python 3.12",
   "language": "python",
   "name": "python311"
  },
  "language_info": {
   "codemirror_mode": {
    "name": "ipython",
    "version": 3
   },
   "file_extension": ".py",
   "mimetype": "text/x-python",
   "name": "python",
   "nbconvert_exporter": "python",
   "pygments_lexer": "ipython3",
   "version": "3.12.6"
  }
 },
 "nbformat": 4,
 "nbformat_minor": 5
}
